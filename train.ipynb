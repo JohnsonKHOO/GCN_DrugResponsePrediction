{
 "cells": [
  {
   "cell_type": "code",
   "execution_count": null,
   "metadata": {},
   "outputs": [],
   "source": [
    "%matplotlib inline\n",
    "import os\n",
    "import math\n",
    "import dgl\n",
    "import dgl.function as fn\n",
    "from dgl import DGLGraph\n",
    "from collections import namedtuple\n",
    "import networkx as nx\n",
    "import torch\n",
    "import torch.nn.functional as F\n",
    "from torch.nn.functional import cosine_similarity\n",
    "import torch.optim as optim\n",
    "import torch.nn as nn\n",
    "from torch.nn import Linear\n",
    "import numpy as np\n",
    "import pandas as pd\n",
    "from torch_geometric.data import Data, Batch\n",
    "from torch_geometric.nn.conv import GCNConv\n",
    "from rdkit import Chem\n",
    "from rdkit import DataStructs\n",
    "from rdkit.Chem import AllChem, Draw, DataStructs, RDConfig\n",
    "from rdkit.Chem.Draw import IPythonConsole\n",
    "from rdkit.Chem.rdmolops import GetAdjacencyMatrix, Get3DDistanceMatrix\n",
    "from rdkit.Chem.Descriptors import rdMolDescriptors\n",
    "from sklearn.preprocessing import normalize\n",
    "from sklearn.preprocessing import StandardScaler\n",
    "from sklearn.ensemble import RandomForestClassifier\n",
    "from e3fp.fingerprint.generate import fp, fprints_dict_from_mol\n",
    "from e3fp.conformer.generate import generate_conformers\n",
    "import matplotlib.pyplot as plt\n",
    "from torch.utils.data import DataLoader, Dataset, TensorDataset\n",
    "from sklearn.model_selection import train_test_split\n",
    "from sklearn.metrics import mean_squared_error, mean_absolute_error\n",
    "from sklearn.decomposition import PCA\n",
    "import seaborn as sns\n",
    "from sklearn.metrics import roc_curve\n",
    "from sklearn import metrics\n",
    "IPythonConsole.ipython_useSVG=True\n"
   ]
  },
  {
   "cell_type": "code",
   "execution_count": null,
   "metadata": {},
   "outputs": [],
   "source": [
    "# 判断是用GPU或CPU计算\n",
    "device = torch.device(\"cuda\" if torch.cuda.is_available() else \"cpu\")"
   ]
  },
  {
   "cell_type": "code",
   "execution_count": null,
   "metadata": {},
   "outputs": [],
   "source": [
    "df = pd.read_csv('./dataset/BindingDB_PubChem_3D_dataset.csv')\n",
    "df_E3FPTC = pd.read_csv('./dataset/BindingDB_PubChem_3D_E3FPTC_dataset.csv')\n",
    "df_E3FP_features = pd.read_csv('./dataset/BindingDB_PubChem_3D_E3FP_features_dataset.csv')\n",
    "df_E3FP_features"
   ]
  },
  {
   "cell_type": "code",
   "execution_count": null,
   "metadata": {},
   "outputs": [],
   "source": [
    "df"
   ]
  },
  {
   "cell_type": "code",
   "execution_count": null,
   "metadata": {},
   "outputs": [],
   "source": [
    "df_E3FPTC"
   ]
  },
  {
   "cell_type": "code",
   "execution_count": null,
   "metadata": {},
   "outputs": [],
   "source": [
    "# 构建邻接矩阵\n",
    "# 把邻接矩阵转COO格式的图连接\n",
    "# 显示i和j之间右有边，用[i, j]表示\n",
    "# 是pyg Data类的edge_index邻接矩阵表示\n",
    "adj = []\n",
    "for i in range(df_E3FPTC.shape[0]):\n",
    "    adj.append([df_E3FPTC['i'][i], df_E3FPTC['j'][i]])\n",
    "adj"
   ]
  },
  {
   "cell_type": "code",
   "execution_count": null,
   "metadata": {},
   "outputs": [],
   "source": [
    "class GCN(nn.Module):\n",
    "    def __init__(self, in_features, hidden_features,num_classes):\n",
    "        super(GCN, self).__init__()\n",
    "        self.gc1 = GCNConv(in_features, hidden_features)\n",
    "        self.gc2 = GCNConv(hidden_features, num_classes)\n",
    "    def forward(self, data):\n",
    "        x, edge_index = data.x, data.edge_index\n",
    "        x = self.gc1(x, edge_index)\n",
    "        x = F.relu(x)\n",
    "        x = F.dropout(x, training=self.training)\n",
    "        x = self.gc2(x, edge_index)\n",
    "        return F.log_softmax(x, dim=1)"
   ]
  },
  {
   "cell_type": "code",
   "execution_count": null,
   "metadata": {},
   "outputs": [],
   "source": [
    "mol_weight = torch.tensor(df['mol_weight'].values.astype(float), dtype=torch.float)\n",
    "ic50 = torch.tensor(df['IC50 (nM)'].values.astype(float), dtype=torch.float)\n"
   ]
  },
  {
   "cell_type": "code",
   "execution_count": null,
   "metadata": {},
   "outputs": [],
   "source": [
    "edge_index = torch.tensor(adj, dtype=torch.long)\n",
    "edge_index"
   ]
  },
  {
   "cell_type": "code",
   "execution_count": null,
   "metadata": {},
   "outputs": [],
   "source": [
    "edge_attr = torch.tensor(df_E3FPTC['E3FPTC'].values.astype(float), dtype=torch.float)\n",
    "edge_attr"
   ]
  },
  {
   "cell_type": "code",
   "execution_count": null,
   "metadata": {},
   "outputs": [],
   "source": [
    "x = torch.tensor(df_E3FP_features.values.astype(float), dtype=torch.float)\n",
    "x.shape"
   ]
  },
  {
   "cell_type": "code",
   "execution_count": null,
   "metadata": {},
   "outputs": [],
   "source": [
    "# 标签\n",
    "y = ic50\n",
    "y"
   ]
  },
  {
   "cell_type": "code",
   "execution_count": null,
   "metadata": {},
   "outputs": [],
   "source": [
    "# 转成pyg Data类可接受的数据格式\n",
    "edge_index = edge_index.t().contiguous()\n",
    "edge_index"
   ]
  },
  {
   "cell_type": "code",
   "execution_count": null,
   "metadata": {},
   "outputs": [],
   "source": [
    "x_len = x.shape[0]\n",
    "# 训练集占80%，测试集占10%，验证集占10%，随机划分\n",
    "train_idx = np.random.choice(x_len, int(0.8 * x_len), replace=False)\n",
    "train_mask = torch.zeros(x_len, dtype=torch.bool)\n",
    "train_mask[train_idx] = 1\n",
    "\n",
    "test_idx = np.random.choice(x_len, int(0.1 * x_len), replace=False)\n",
    "test_mask = torch.zeros(x_len, dtype=torch.bool)\n",
    "test_mask[test_idx] = 1\n",
    "\n",
    "val_mask = torch.zeros(x_len, dtype=torch.bool)\n",
    "val_mask[~train_mask & ~test_mask] = 1\n",
    "\n",
    "train_mask, val_mask, test_mask"
   ]
  },
  {
   "cell_type": "code",
   "execution_count": null,
   "metadata": {},
   "outputs": [],
   "source": [
    "print(train_mask.shape, test_mask.shape, val_mask.shape)"
   ]
  },
  {
   "cell_type": "code",
   "execution_count": null,
   "metadata": {},
   "outputs": [],
   "source": [
    "data = Data(x=x, y=y,edge_index=edge_index, edge_attr=edge_attr,\n",
    "            train_mask=train_mask, test_mask=test_mask, val_mask=val_mask)"
   ]
  },
  {
   "cell_type": "code",
   "execution_count": null,
   "metadata": {},
   "outputs": [],
   "source": [
    "print(data)\n",
    "print(data.is_directed())\n",
    "print(data.has_self_loops())\n",
    "print(data.has_isolated_nodes())\n",
    "print(data.num_nodes)\n",
    "print(data.num_edges)\n",
    "print(data.num_node_features)\n",
    "print(data.num_edge_features)"
   ]
  },
  {
   "cell_type": "code",
   "execution_count": null,
   "metadata": {},
   "outputs": [],
   "source": [
    "# 选择模型，加入输入特征维度，隐藏层维度，输出维度\n",
    "model = GCN(in_features=data.num_features, hidden_features=16, num_classes=2).to(device)\n",
    "# 选择优化器，加入学习率lr，\n",
    "# 当lr过小->收敛下降过慢，过大->错过局部最优；\n",
    "# 加入正则化系数weight_decay，防止过拟合\n",
    "optimizer = optim.Adam(model.parameters(), lr=0.01, weight_decay=5e-4)\n",
    "\n",
    "epochs = 100"
   ]
  },
  {
   "cell_type": "code",
   "execution_count": null,
   "metadata": {},
   "outputs": [],
   "source": [
    "# 训练模型\n",
    "def train(model, data, mask):\n",
    "    model.train()\n",
    "    optimizer.zero_grad()\n",
    "    output = model(data)\n",
    "    loss = F.nll_loss(output[mask], data.y[mask].long())\n",
    "    loss.backward()\n",
    "    optimizer.step()\n",
    "    return loss.item()"
   ]
  },
  {
   "cell_type": "code",
   "execution_count": null,
   "metadata": {},
   "outputs": [],
   "source": [
    "# 评估函数\n",
    "def evaluate(model, data, mask):\n",
    "    model.eval()\n",
    "    with torch.no_grad():\n",
    "        y_pred = model(data)\n",
    "        y_true = data.y\n",
    "        # 转换 y_pred 的形状使其符合 y_true\n",
    "        y_pred = y_pred[:, 0] \n",
    "\n",
    "        mae = mean_absolute_error(y_true[mask], y_pred[mask])\n",
    "        rmse = math.sqrt(mean_squared_error(y_true[mask], y_pred[mask]))\n",
    "        \n",
    "    return rmse, mae"
   ]
  },
  {
   "cell_type": "code",
   "execution_count": null,
   "metadata": {},
   "outputs": [],
   "source": [
    "train_losses = []\n",
    "\n",
    "val_rmse_list = []\n",
    "test_rmse_list = []\n",
    "val_mae_list = []\n",
    "test_mae_list = []"
   ]
  },
  {
   "cell_type": "code",
   "execution_count": null,
   "metadata": {},
   "outputs": [],
   "source": [
    "\n",
    "for epoch in range(1, epochs + 1):\n",
    "    train_loss = train(model, data, data.train_mask)\n",
    "    train_losses.append(train_loss)\n",
    "\n",
    "    val_rmse, val_mae = evaluate(model, data, data.val_mask)\n",
    "    val_rmse_list.append(val_rmse)\n",
    "    val_mae_list.append(val_mae)\n",
    "    \n",
    "    test_rmse, test_mae = evaluate(model, data, data.test_mask)\n",
    "    test_rmse_list.append(test_rmse)\n",
    "    test_mae_list.append(test_mae)\n",
    "\n",
    "    if epoch % 5 == 0:\n",
    "        print('Epoch {:03d} ———— Train Loss: {:.4f}'.format(epoch, train_losses[-1]))\n",
    "        print('Val RMSE: {:.4f}'.format(val_rmse_list[-1]))\n",
    "        print('Test RMSE: {:.4f}'.format(test_rmse_list[-1]))\n",
    "        print('Val MAE: {:.4f}'.format(val_mae_list[-1]))\n",
    "        print('Test MAE: {:.4f}'.format(test_mae_list[-1]))\n",
    "\n",
    "    "
   ]
  },
  {
   "cell_type": "code",
   "execution_count": null,
   "metadata": {},
   "outputs": [],
   "source": [
    "# 画图\n",
    "plt.figure(figsize=(10, 8))\n",
    "plt.plot(train_losses, label='Train Loss')\n",
    "# 添加x轴标签\n",
    "plt.xlabel('Epoch')\n",
    "# 添加y轴标签\n",
    "plt.ylabel('Loss')\n",
    "# 添加title\n",
    "plt.title('Train Loss Curve')\n",
    "plt.legend()\n",
    "plt.show()"
   ]
  },
  {
   "cell_type": "code",
   "execution_count": null,
   "metadata": {},
   "outputs": [],
   "source": [
    "# 训练损失和验证损失图像\n",
    "fig, (ax1, ax2) = plt.subplots(1, 2, figsize=(12, 4))\n",
    "\n",
    "# 图表示MAE\n",
    "ax1.plot(np.arange(len(val_mae_list)), val_mae_list, label='val_MAE')\n",
    "ax1.plot(np.arange(len(test_mae_list)), test_mae_list, label='test_MAE')\n",
    "ax1.set_title('MAE value in validation and test')\n",
    "ax1.set_xlabel('Epoch')\n",
    "ax1.set_ylabel('MAE')\n",
    "ax1.legend()\n",
    "\n",
    "# 图表示RMSE\n",
    "ax2.plot(np.arange(len(val_rmse_list)), val_rmse_list, label='val_RMSE')\n",
    "ax2.plot(np.arange(len(test_rmse_list)), test_rmse_list, label='test_RMSE')\n",
    "ax2.set_title('RMSE value in validation and test')\n",
    "ax2.set_xlabel('Epoch')\n",
    "ax2.set_ylabel('RMSE')\n",
    "ax2.legend()\n",
    "\n",
    "plt.show()"
   ]
  }
 ],
 "metadata": {
  "kernelspec": {
   "display_name": "py37",
   "language": "python",
   "name": "python3"
  },
  "language_info": {
   "codemirror_mode": {
    "name": "ipython",
    "version": 3
   },
   "file_extension": ".py",
   "mimetype": "text/x-python",
   "name": "python",
   "nbconvert_exporter": "python",
   "pygments_lexer": "ipython3",
   "version": "3.7.16"
  }
 },
 "nbformat": 4,
 "nbformat_minor": 2
}
