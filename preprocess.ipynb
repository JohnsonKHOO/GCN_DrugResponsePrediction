{
 "cells": [
  {
   "cell_type": "code",
   "execution_count": null,
   "metadata": {},
   "outputs": [],
   "source": [
    "%matplotlib inline\n",
    "import os\n",
    "import dgl.function as fn\n",
    "from dgl import DGLGraph\n",
    "from collections import namedtuple\n",
    "import networkx as nx\n",
    "import torch\n",
    "import torch.nn.functional as F\n",
    "from torch.nn.functional import cosine_similarity\n",
    "import torch.optim as optim\n",
    "import torch.nn as nn\n",
    "from torch.nn import Linear\n",
    "import numpy as np\n",
    "import pandas as pd\n",
    "from torch_geometric.data import Data, Batch\n",
    "from torch_geometric.nn.conv import GCNConv\n",
    "from rdkit import Chem\n",
    "from rdkit import DataStructs\n",
    "from rdkit.Chem import AllChem, Draw, DataStructs, RDConfig\n",
    "from rdkit.Chem.Draw import IPythonConsole\n",
    "from rdkit.Chem.rdmolops import GetAdjacencyMatrix\n",
    "from rdkit.Chem.Descriptors import rdMolDescriptors\n",
    "from sklearn.preprocessing import normalize\n",
    "from sklearn.ensemble import RandomForestClassifier\n",
    "from e3fp.fingerprint.generate import fp, fprints_dict_from_mol\n",
    "from e3fp.conformer.generate import generate_conformers\n",
    "import matplotlib.pyplot as plt\n",
    "from torch.utils.data import DataLoader, Dataset, TensorDataset\n",
    "from sklearn.model_selection import train_test_split\n",
    "from sklearn.decomposition import PCA\n",
    "import seaborn as sns\n",
    "import hashlib\n",
    "IPythonConsole.ipython_useSVG=True"
   ]
  },
  {
   "cell_type": "code",
   "execution_count": null,
   "metadata": {},
   "outputs": [],
   "source": [
    "# 读取SDF文件\n",
    "sdf_file = './dataset/BindingDB_PubChem_3D.sdf'\n",
    "# Pandas Dataframe的列名\n",
    "df = pd.DataFrame(columns=['mol_name', 'smiles', 'mol_weight', 'IC50 (nM)'])\n",
    "# 读取的分子数量\n",
    "chunk_size = 10000\n",
    "mols = []\n",
    "suppl = Chem.SDMolSupplier(sdf_file)"
   ]
  },
  {
   "cell_type": "code",
   "execution_count": null,
   "metadata": {},
   "outputs": [],
   "source": [
    "# 用RDKit中的SDMolSupplier读取分子\n",
    "for i,mol in enumerate(suppl):\n",
    "    if i > 0 and i % chunk_size == 0:\n",
    "        break\n",
    "    else:\n",
    "        if mol is not None:\n",
    "            mol = Chem.AddHs(mol)\n",
    "            # 3D\n",
    "            AllChem.EmbedMolecule(mol)\n",
    "            mols.append(mol)\n",
    "            #其他非标准的属性\n",
    "            # propNames = list(mol.GetPropNames())\n",
    "            # print(propNames)\n",
    "            # 提取分子信息\n",
    "            mol_ID = mol.GetProp('_Name')\n",
    "            smiles = Chem.MolToSmiles(mol)\n",
    "            mol_weight = Chem.rdMolDescriptors.CalcExactMolWt(mol)\n",
    "            IC50 = mol.GetProp('IC50 (nM)')\n",
    "            # 添加数据到DataFrame\n",
    "            df = df.append({'mol_name': mol_ID, 'smiles': smiles, 'mol_weight': mol_weight,\n",
    "                            'IC50 (nM)': IC50}, ignore_index=True)\n",
    " # 打印结果\n",
    "df"
   ]
  },
  {
   "cell_type": "code",
   "execution_count": null,
   "metadata": {},
   "outputs": [],
   "source": [
    "df.info()\n",
    "# 数据清洗\n",
    "df['IC50 (nM)'] = pd.to_numeric(df['IC50 (nM)'], errors='coerce')\n",
    "df['mol_name'] = df['mol_name'].astype(str)\n",
    "# 删除包含英文字母的行\n",
    "df = df[~df['mol_name'].str.contains('[a-zA-Z]')]\n",
    "# 把转成数字类型\n",
    "df['mol_name'] = pd.to_numeric(df['mol_name'], errors='coerce')\n",
    "\n",
    "# 删除空值\n",
    "df = df.dropna()\n",
    "df = df.reset_index(drop=True)\n",
    "df"
   ]
  },
  {
   "cell_type": "code",
   "execution_count": null,
   "metadata": {},
   "outputs": [],
   "source": [
    "df = pd.read_csv('./dataset/BindingDB_PubChem_3D_dataset.csv')\n",
    "df"
   ]
  },
  {
   "cell_type": "code",
   "execution_count": null,
   "metadata": {},
   "outputs": [],
   "source": [
    "# 对df进行缩放\n",
    "df['IC50 (nM)'] = np.log10(df['IC50 (nM)'])\n",
    "df['mol_weight'] = np.log10(df['mol_weight'])\n",
    "\n",
    "# 归一化, 但不小于0\n",
    "df['IC50 (nM)'] = (df['IC50 (nM)'] - df['IC50 (nM)'].min()) / (df['IC50 (nM)'].max() - df['IC50 (nM)'].min())\n",
    "df['mol_weight'] = (df['mol_weight'] - df['mol_weight'].min()) / (df['mol_weight'].max() - df['mol_weight'].min())\n"
   ]
  },
  {
   "cell_type": "code",
   "execution_count": null,
   "metadata": {},
   "outputs": [],
   "source": [
    "# 数据集可视化\n",
    "sns.set(style='whitegrid', context='notebook')\n",
    "cols = ['IC50 (nM)', 'mol_weight']\n",
    "sns.pairplot(df[cols], height=2.5)\n",
    "plt.show()\n"
   ]
  },
  {
   "cell_type": "code",
   "execution_count": null,
   "metadata": {},
   "outputs": [],
   "source": [
    "# 把df存储为csv，方便便后续使用\n",
    "df.to_csv('./dataset/BindingDB_PubChem_3D_dataset.csv', index=False)\n"
   ]
  },
  {
   "cell_type": "code",
   "execution_count": null,
   "metadata": {},
   "outputs": [],
   "source": [
    "df"
   ]
  },
  {
   "cell_type": "code",
   "execution_count": null,
   "metadata": {},
   "outputs": [],
   "source": [
    "df.describe()"
   ]
  },
  {
   "cell_type": "code",
   "execution_count": null,
   "metadata": {},
   "outputs": [],
   "source": [
    "# 画图\n",
    "Draw.MolsToGridImage(mols, molsPerRow=5, subImgSize=(500, 500), legends=[mol.GetProp('_Name') for mol in mols])"
   ]
  },
  {
   "cell_type": "code",
   "execution_count": null,
   "metadata": {},
   "outputs": [],
   "source": [
    "mols3D = []\n",
    "j = 0\n",
    "suppl = Chem.SDMolSupplier(sdf_file)\n",
    " # 用RDKit中的SDMolSupplier读取分子\n",
    "for i,mol in enumerate(suppl):\n",
    "    # 判断j是否超出数组范围\n",
    "    if i > 0 and i % chunk_size == 0 and j > (len(df['smiles']) - 1):\n",
    "        break\n",
    "    else:\n",
    "        if mol is not None:\n",
    "            mol = Chem.AddHs(mol)\n",
    "            # 判断smiles是否相同\n",
    "            if df.iloc[j]['smiles'] == Chem.MolToSmiles(mol):\n",
    "                mols3D.append(mol)\n",
    "                j += 1\n",
    "\n",
    "len(mols3D)"
   ]
  },
  {
   "cell_type": "code",
   "execution_count": null,
   "metadata": {},
   "outputs": [],
   "source": [
    "df3D = {\"MOLI\":[], \"MOLJ\":[], \"E3FPTC\":[], \"i\":[], \"j\":[]}\n",
    "fpdicts = [ fprints_dict_from_mol( mol ) for mol in mols3D ]\n",
    "# 获取 e3fp fingerprint\n",
    "#如果分子有多个构象，则该函数将生成多个指纹。\n",
    "fps = [ fp[5][0] for fp in fpdicts]\n",
    "# 用e3fp生成rdkit指纹\n",
    "binfp = [ fp.fold().to_rdkit() for fp in fps ]"
   ]
  },
  {
   "cell_type": "code",
   "execution_count": null,
   "metadata": {},
   "outputs": [],
   "source": [
    "# 把fps转dataframe\n",
    "df_fps = pd.DataFrame(fps)\n",
    "# 存储，方便后续使用，生成时间太长\n",
    "df_fps.to_csv('./dataset/BindingDB_PubChem_3D_E3TP_features_arrstr.csv', index=False)"
   ]
  },
  {
   "cell_type": "code",
   "execution_count": null,
   "metadata": {},
   "outputs": [],
   "source": [
    "df_fps = pd.read_csv('./dataset/BindingDB_PubChem_3D_E3FP_features_arrstr.csv')\n",
    "df_fps"
   ]
  },
  {
   "cell_type": "code",
   "execution_count": null,
   "metadata": {},
   "outputs": [],
   "source": [
    "# 动态数组\n",
    "fp_array = [[] for i in range(len(df_fps['0']))]\n",
    "len(df_fps['0'])\n"
   ]
  },
  {
   "cell_type": "code",
   "execution_count": null,
   "metadata": {},
   "outputs": [],
   "source": [
    "\n",
    "string = ''\n",
    "\n",
    "# 遍历每个0\tFingerprint(indices=array([1691953, 23151693, ...] 这些由字符组成的指纹\n",
    "for i, fp in enumerate(df_fps['0']):\n",
    "    # 遍历每个字符\n",
    "    print(fp)\n",
    "    for j, c in enumerate(fp):\n",
    "        if c != '[' and c != ']' and c != ',' and c != ' ' and c != '(' and c != ')' and c != '=':\n",
    "            string += c\n",
    "            print(string)\n",
    "        # 如果字符为'['则清空string\n",
    "        elif c == '[':     \n",
    "            string = ''\n",
    "        # 如果字符为','，则获取string值\n",
    "        elif c == ',':\n",
    "            fp_array[i].append(string)\n",
    "            string = ''\n",
    "        # 若字符为']'，则获取值并结束\n",
    "        elif c == ']':\n",
    "            fp_array[i].append(string)\n",
    "            string = ''\n",
    "            break\n",
    "        "
   ]
  },
  {
   "cell_type": "code",
   "execution_count": null,
   "metadata": {},
   "outputs": [],
   "source": [
    "fp_array"
   ]
  },
  {
   "cell_type": "code",
   "execution_count": null,
   "metadata": {},
   "outputs": [],
   "source": [
    "# 生成特征矩阵\n",
    "# 算出最大的数组长度\n",
    "max_len = 0\n",
    "for i in range(len(fp_array)):\n",
    "    if len(fp_array[i]) > max_len:\n",
    "        max_len = len(fp_array[i])\n",
    "max_len"
   ]
  },
  {
   "cell_type": "code",
   "execution_count": null,
   "metadata": {},
   "outputs": [],
   "source": [
    "# 通过最大长度生成特征矩阵，用0填充\n",
    "fp_matrix = np.zeros((len(fp_array), max_len))\n",
    "fp_matrix.shape"
   ]
  },
  {
   "cell_type": "code",
   "execution_count": null,
   "metadata": {},
   "outputs": [],
   "source": [
    "# 把数组中的值赋给特征矩阵\n",
    "for i in range(len(fp_array)):\n",
    "    for j in range(len(fp_array[i])):\n",
    "        fp_matrix[i][j] = fp_array[i][j]\n",
    "fp_matrix"
   ]
  },
  {
   "cell_type": "code",
   "execution_count": null,
   "metadata": {},
   "outputs": [],
   "source": [
    "# 把特征矩阵转成DataFrame\n",
    "df_fp_matrix = pd.DataFrame(fp_matrix)\n",
    "# 数据清洗\n",
    "df_fp_matrix = df_fp_matrix.dropna()\n",
    "df_fp_matrix = df_fp_matrix.reset_index(drop=True)\n",
    "\n"
   ]
  },
  {
   "cell_type": "code",
   "execution_count": null,
   "metadata": {},
   "outputs": [],
   "source": [
    "# log10\n",
    "df_fp_matrix = np.log10(df_fp_matrix)\n",
    "# 归一化\n",
    "df_fp_matrix = (df_fp_matrix - df_fp_matrix.min()) / (df_fp_matrix.max() - df_fp_matrix.min())\n",
    "df_fp_matrix"
   ]
  },
  {
   "cell_type": "code",
   "execution_count": null,
   "metadata": {},
   "outputs": [],
   "source": [
    "# 对nan的列进行删除\n",
    "df_fp_matrix = df_fp_matrix.dropna(axis=1)\n",
    "df_fp_matrix = df_fp_matrix.reset_index(drop=True)\n"
   ]
  },
  {
   "cell_type": "code",
   "execution_count": null,
   "metadata": {},
   "outputs": [],
   "source": [
    "# 标准化\n",
    "df_fp_matrix = (df_fp_matrix - df_fp_matrix.mean()) / df_fp_matrix.std()\n",
    "df_fp_matrix"
   ]
  },
  {
   "cell_type": "code",
   "execution_count": null,
   "metadata": {},
   "outputs": [],
   "source": [
    "# 由于零值太多，所以只保留前面较为完整的数据列\n",
    "df_fp_matrix = df_fp_matrix.iloc[:, :40]\n",
    "df_fp_matrix"
   ]
  },
  {
   "cell_type": "code",
   "execution_count": null,
   "metadata": {},
   "outputs": [],
   "source": [
    "# 把df_fp_matrix_norm存储为csv\n",
    "df_fp_matrix.to_csv('./dataset/BindingDB_PubChem_3D_E3FP_features_dataset.csv', index=False)"
   ]
  },
  {
   "cell_type": "code",
   "execution_count": null,
   "metadata": {},
   "outputs": [],
   "source": [
    "# 生成分子对\n",
    "for i in range( len(binfp) ):\n",
    "    for j in range( i ):\n",
    "        e3fpTC = DataStructs.TanimotoSimilarity( binfp[i], binfp[j] )\n",
    "        moli = mols[i].GetProp(\"_Name\")\n",
    "        molj = mols[j].GetProp(\"_Name\")\n",
    "        df3D[\"MOLI\"].append( moli )\n",
    "        df3D[\"MOLJ\"].append( molj )\n",
    "        df3D[\"E3FPTC\"].append( e3fpTC )\n",
    "        df3D[\"i\"].append( i )\n",
    "        df3D[\"j\"].append( j )\n",
    "df3D = pd.DataFrame( df3D )\n",
    "df3D"
   ]
  },
  {
   "cell_type": "code",
   "execution_count": null,
   "metadata": {},
   "outputs": [],
   "source": [
    "# 把df3D存储为csv\n",
    "df3D.to_csv('./dataset/BindingDB_PubChem_3D_E3FPTC_dataset.csv', index=False)"
   ]
  }
 ],
 "metadata": {
  "kernelspec": {
   "display_name": "py37",
   "language": "python",
   "name": "python3"
  },
  "language_info": {
   "codemirror_mode": {
    "name": "ipython",
    "version": 3
   },
   "file_extension": ".py",
   "mimetype": "text/x-python",
   "name": "python",
   "nbconvert_exporter": "python",
   "pygments_lexer": "ipython3",
   "version": "3.7.16"
  },
  "orig_nbformat": 4
 },
 "nbformat": 4,
 "nbformat_minor": 2
}
